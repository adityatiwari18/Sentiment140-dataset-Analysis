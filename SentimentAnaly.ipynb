{
  "nbformat": 4,
  "nbformat_minor": 0,
  "metadata": {
    "kernelspec": {
      "display_name": "Python 3",
      "language": "python",
      "name": "python3"
    },
    "language_info": {
      "codemirror_mode": {
        "name": "ipython",
        "version": 3
      },
      "file_extension": ".py",
      "mimetype": "text/x-python",
      "name": "python",
      "nbconvert_exporter": "python",
      "pygments_lexer": "ipython3",
      "version": "3.7.4"
    },
    "colab": {
      "name": "SentimentAnaly.ipynb",
      "provenance": [],
      "collapsed_sections": [],
      "include_colab_link": true
    }
  },
  "cells": [
    {
      "cell_type": "markdown",
      "metadata": {
        "id": "view-in-github",
        "colab_type": "text"
      },
      "source": [
        "<a href=\"https://colab.research.google.com/github/adityatiwari18/Sentiment140-dataset-Analysis/blob/master/SentimentAnaly.ipynb\" target=\"_parent\"><img src=\"https://colab.research.google.com/assets/colab-badge.svg\" alt=\"Open In Colab\"/></a>"
      ]
    },
    {
      "cell_type": "markdown",
      "metadata": {
        "id": "Lw5GBw3YM4J3",
        "colab_type": "text"
      },
      "source": [
        "## **Importing Necessary Libraries**"
      ]
    },
    {
      "cell_type": "code",
      "metadata": {
        "id": "ssKFer_uy-81",
        "colab_type": "code",
        "colab": {}
      },
      "source": [
        "import tensorflow as tf\n",
        "from tensorflow.keras.preprocessing.text import Tokenizer\n",
        "from tensorflow.keras.preprocessing.sequence import pad_sequences\n",
        "import pandas as pd\n",
        "import numpy as np\n",
        "from sklearn.utils import shuffle\n",
        "from sklearn.model_selection import train_test_split"
      ],
      "execution_count": 0,
      "outputs": []
    },
    {
      "cell_type": "code",
      "metadata": {
        "id": "i9eUm_pabbkJ",
        "colab_type": "code",
        "colab": {}
      },
      "source": [
        "import os"
      ],
      "execution_count": 0,
      "outputs": []
    },
    {
      "cell_type": "code",
      "metadata": {
        "id": "15_KNbjbIgbc",
        "colab_type": "code",
        "colab": {}
      },
      "source": [
        "import string\n",
        "import re"
      ],
      "execution_count": 0,
      "outputs": []
    },
    {
      "cell_type": "code",
      "metadata": {
        "id": "wogQaM17y-9C",
        "colab_type": "code",
        "outputId": "1cfbabf5-3328-490a-afcb-0e2ee601f0e9",
        "colab": {
          "base_uri": "https://localhost:8080/",
          "height": 122
        }
      },
      "source": [
        "from google.colab import drive\n",
        "drive.mount('/content/gdrive')"
      ],
      "execution_count": 0,
      "outputs": [
        {
          "output_type": "stream",
          "text": [
            "Go to this URL in a browser: https://accounts.google.com/o/oauth2/auth?client_id=947318989803-6bn6qk8qdgf4n4g3pfee6491hc0brc4i.apps.googleusercontent.com&redirect_uri=urn%3aietf%3awg%3aoauth%3a2.0%3aoob&response_type=code&scope=email%20https%3a%2f%2fwww.googleapis.com%2fauth%2fdocs.test%20https%3a%2f%2fwww.googleapis.com%2fauth%2fdrive%20https%3a%2f%2fwww.googleapis.com%2fauth%2fdrive.photos.readonly%20https%3a%2f%2fwww.googleapis.com%2fauth%2fpeopleapi.readonly\n",
            "\n",
            "Enter your authorization code:\n",
            "··········\n",
            "Mounted at /content/gdrive\n"
          ],
          "name": "stdout"
        }
      ]
    },
    {
      "cell_type": "code",
      "metadata": {
        "id": "_CevnTTsYO8d",
        "colab_type": "code",
        "outputId": "f835bcce-fb86-4741-8048-ad31c10948f9",
        "colab": {
          "base_uri": "https://localhost:8080/",
          "height": 34
        }
      },
      "source": [
        "%cd /content/gdrive/My Drive/Sentiment Analysis"
      ],
      "execution_count": 0,
      "outputs": [
        {
          "output_type": "stream",
          "text": [
            "/content/gdrive/My Drive/Sentiment Analysis\n"
          ],
          "name": "stdout"
        }
      ]
    },
    {
      "cell_type": "code",
      "metadata": {
        "id": "mE3DcQrlZBtu",
        "colab_type": "code",
        "colab": {}
      },
      "source": [
        "import Filter #importing filter.py python script"
      ],
      "execution_count": 0,
      "outputs": []
    },
    {
      "cell_type": "markdown",
      "metadata": {
        "id": "TwoVpQ7m5ExU",
        "colab_type": "text"
      },
      "source": [
        "## **Loading Sentiment140 Dataset**"
      ]
    },
    {
      "cell_type": "code",
      "metadata": {
        "id": "fKi0nY9ky-9K",
        "colab_type": "code",
        "colab": {}
      },
      "source": [
        "dataset = pd.read_csv('dataset.csv', encoding='latin-1')"
      ],
      "execution_count": 0,
      "outputs": []
    },
    {
      "cell_type": "code",
      "metadata": {
        "id": "BwclUti8y-9T",
        "colab_type": "code",
        "outputId": "2c46c1a3-6aaf-4e38-b117-12e6e2cc8b0d",
        "colab": {
          "base_uri": "https://localhost:8080/",
          "height": 204
        }
      },
      "source": [
        "dataset.head()"
      ],
      "execution_count": 0,
      "outputs": [
        {
          "output_type": "execute_result",
          "data": {
            "text/html": [
              "<div>\n",
              "<style scoped>\n",
              "    .dataframe tbody tr th:only-of-type {\n",
              "        vertical-align: middle;\n",
              "    }\n",
              "\n",
              "    .dataframe tbody tr th {\n",
              "        vertical-align: top;\n",
              "    }\n",
              "\n",
              "    .dataframe thead th {\n",
              "        text-align: right;\n",
              "    }\n",
              "</style>\n",
              "<table border=\"1\" class=\"dataframe\">\n",
              "  <thead>\n",
              "    <tr style=\"text-align: right;\">\n",
              "      <th></th>\n",
              "      <th>Sentiment</th>\n",
              "      <th>ID</th>\n",
              "      <th>Date</th>\n",
              "      <th>Status</th>\n",
              "      <th>Name</th>\n",
              "      <th>Review</th>\n",
              "    </tr>\n",
              "  </thead>\n",
              "  <tbody>\n",
              "    <tr>\n",
              "      <th>0</th>\n",
              "      <td>0</td>\n",
              "      <td>1467810369</td>\n",
              "      <td>Mon Apr 06 22:19:45 PDT 2009</td>\n",
              "      <td>NO_QUERY</td>\n",
              "      <td>_TheSpecialOne_</td>\n",
              "      <td>@switchfoot http://twitpic.com/2y1zl - Awww, t...</td>\n",
              "    </tr>\n",
              "    <tr>\n",
              "      <th>1</th>\n",
              "      <td>0</td>\n",
              "      <td>1467810672</td>\n",
              "      <td>Mon Apr 06 22:19:49 PDT 2009</td>\n",
              "      <td>NO_QUERY</td>\n",
              "      <td>scotthamilton</td>\n",
              "      <td>is upset that he can't update his Facebook by ...</td>\n",
              "    </tr>\n",
              "    <tr>\n",
              "      <th>2</th>\n",
              "      <td>0</td>\n",
              "      <td>1467810917</td>\n",
              "      <td>Mon Apr 06 22:19:53 PDT 2009</td>\n",
              "      <td>NO_QUERY</td>\n",
              "      <td>mattycus</td>\n",
              "      <td>@Kenichan I dived many times for the ball. Man...</td>\n",
              "    </tr>\n",
              "    <tr>\n",
              "      <th>3</th>\n",
              "      <td>0</td>\n",
              "      <td>1467811184</td>\n",
              "      <td>Mon Apr 06 22:19:57 PDT 2009</td>\n",
              "      <td>NO_QUERY</td>\n",
              "      <td>ElleCTF</td>\n",
              "      <td>my whole body feels itchy and like its on fire</td>\n",
              "    </tr>\n",
              "    <tr>\n",
              "      <th>4</th>\n",
              "      <td>0</td>\n",
              "      <td>1467811193</td>\n",
              "      <td>Mon Apr 06 22:19:57 PDT 2009</td>\n",
              "      <td>NO_QUERY</td>\n",
              "      <td>Karoli</td>\n",
              "      <td>@nationwideclass no, it's not behaving at all....</td>\n",
              "    </tr>\n",
              "  </tbody>\n",
              "</table>\n",
              "</div>"
            ],
            "text/plain": [
              "   Sentiment  ...                                             Review\n",
              "0          0  ...  @switchfoot http://twitpic.com/2y1zl - Awww, t...\n",
              "1          0  ...  is upset that he can't update his Facebook by ...\n",
              "2          0  ...  @Kenichan I dived many times for the ball. Man...\n",
              "3          0  ...    my whole body feels itchy and like its on fire \n",
              "4          0  ...  @nationwideclass no, it's not behaving at all....\n",
              "\n",
              "[5 rows x 6 columns]"
            ]
          },
          "metadata": {
            "tags": []
          },
          "execution_count": 9
        }
      ]
    },
    {
      "cell_type": "code",
      "metadata": {
        "id": "9_euqQ5ry-9f",
        "colab_type": "code",
        "colab": {}
      },
      "source": [
        "dataset = shuffle(dataset)"
      ],
      "execution_count": 0,
      "outputs": []
    },
    {
      "cell_type": "code",
      "metadata": {
        "id": "BL93oYRUy-9m",
        "colab_type": "code",
        "colab": {}
      },
      "source": [
        "Inputs = dataset.iloc[:,-1].tolist()\n",
        "Labels = dataset.iloc[:,0:1].to_numpy()"
      ],
      "execution_count": 0,
      "outputs": []
    },
    {
      "cell_type": "code",
      "metadata": {
        "id": "sXcsRqDry-9t",
        "colab_type": "code",
        "outputId": "f7f3e199-0681-4384-ed1a-818ad23be036",
        "colab": {
          "base_uri": "https://localhost:8080/",
          "height": 34
        }
      },
      "source": [
        "len(Inputs)"
      ],
      "execution_count": 0,
      "outputs": [
        {
          "output_type": "execute_result",
          "data": {
            "text/plain": [
              "1600000"
            ]
          },
          "metadata": {
            "tags": []
          },
          "execution_count": 12
        }
      ]
    },
    {
      "cell_type": "code",
      "metadata": {
        "id": "lRMcJsjcy-92",
        "colab_type": "code",
        "outputId": "50a99dad-0aa8-409e-bbc5-5abd40b0f0b3",
        "colab": {
          "base_uri": "https://localhost:8080/",
          "height": 34
        }
      },
      "source": [
        "len(Labels)"
      ],
      "execution_count": 0,
      "outputs": [
        {
          "output_type": "execute_result",
          "data": {
            "text/plain": [
              "1600000"
            ]
          },
          "metadata": {
            "tags": []
          },
          "execution_count": 13
        }
      ]
    },
    {
      "cell_type": "markdown",
      "metadata": {
        "id": "lXHXZ3dp5rJq",
        "colab_type": "text"
      },
      "source": [
        "## **Preprocessing Data**"
      ]
    },
    {
      "cell_type": "code",
      "metadata": {
        "id": "MJpkwMhjy-96",
        "colab_type": "code",
        "colab": {}
      },
      "source": [
        "#Correcting the labels of the dataset for binary classification (0: negative 1:positive)\n",
        "for i,(j) in enumerate(Labels):\n",
        "    if(Labels[i]==4):\n",
        "        Labels[i]=1"
      ],
      "execution_count": 0,
      "outputs": []
    },
    {
      "cell_type": "code",
      "metadata": {
        "id": "y8OAkbkpy-9-",
        "colab_type": "code",
        "colab": {}
      },
      "source": [
        "#Removing Usernames, hastags and other useless information from the text from filter.py script\n",
        "for i,(j) in enumerate(Inputs):\n",
        "    Filter.tweet = Inputs[i]\n",
        "    Inputs[i] = Filter.Filter.FilterUsernamesAndURLs()"
      ],
      "execution_count": 0,
      "outputs": []
    },
    {
      "cell_type": "code",
      "metadata": {
        "id": "Zn2yzfYWy--D",
        "colab_type": "code",
        "outputId": "e378d0a0-5034-4e89-eeb3-3024fc499d4e",
        "colab": {
          "base_uri": "https://localhost:8080/",
          "height": 102
        }
      },
      "source": [
        "Inputs[:5]"
      ],
      "execution_count": 0,
      "outputs": [
        {
          "output_type": "execute_result",
          "data": {
            "text/plain": [
              "[' i need my study buddy this isnt working out',\n",
              " 'i saw joyvey ',\n",
              " ' im so happy 4 u ',\n",
              " ' lol thankyou but still lol not very impressed with myself at all atm what you been up to',\n",
              " 'went out driving with jess today we went to the dome ']"
            ]
          },
          "metadata": {
            "tags": []
          },
          "execution_count": 16
        }
      ]
    },
    {
      "cell_type": "code",
      "metadata": {
        "id": "FDAVOnCCy--H",
        "colab_type": "code",
        "colab": {}
      },
      "source": [
        "#Splitting Data into Train and Test\n",
        "x_train, x_test, y_train, y_test = train_test_split(Inputs, Labels, test_size = 0.2, random_state = 0)"
      ],
      "execution_count": 0,
      "outputs": []
    },
    {
      "cell_type": "code",
      "metadata": {
        "id": "aQ8AWEXVy--N",
        "colab_type": "code",
        "outputId": "99d612ee-c6f7-454a-a535-cacddb23ada0",
        "colab": {
          "base_uri": "https://localhost:8080/",
          "height": 85
        }
      },
      "source": [
        "print(len(x_train))\n",
        "print(len(y_train))\n",
        "print(len(x_test))\n",
        "print(len(y_test))"
      ],
      "execution_count": 0,
      "outputs": [
        {
          "output_type": "stream",
          "text": [
            "1280000\n",
            "1280000\n",
            "320000\n",
            "320000\n"
          ],
          "name": "stdout"
        }
      ]
    },
    {
      "cell_type": "code",
      "metadata": {
        "id": "DJIaC5Tky--W",
        "colab_type": "code",
        "outputId": "894e8f08-f4ea-4f8d-d63e-3269e999a52c",
        "colab": {
          "base_uri": "https://localhost:8080/",
          "height": 34
        }
      },
      "source": [
        "y_train.shape"
      ],
      "execution_count": 0,
      "outputs": [
        {
          "output_type": "execute_result",
          "data": {
            "text/plain": [
              "(1280000, 1)"
            ]
          },
          "metadata": {
            "tags": []
          },
          "execution_count": 19
        }
      ]
    },
    {
      "cell_type": "markdown",
      "metadata": {
        "id": "WVFKmU-n77n6",
        "colab_type": "text"
      },
      "source": [
        "## **Further Preprocessing (Converting words to vector representation by creating dictionary)**"
      ]
    },
    {
      "cell_type": "code",
      "metadata": {
        "id": "gFEd2KZey--b",
        "colab_type": "code",
        "colab": {}
      },
      "source": [
        "oov = \"<oov>\"\n",
        "dict_length=50000\n",
        "embed_dims= 12\n",
        "Embed_input = 228\n",
        "paddingtype = \"post\""
      ],
      "execution_count": 0,
      "outputs": []
    },
    {
      "cell_type": "code",
      "metadata": {
        "id": "E2TWj4Pay--g",
        "colab_type": "code",
        "colab": {}
      },
      "source": [
        "tokenizer = Tokenizer(num_words=dict_length, oov_token=oov)\n",
        "tokenizer.fit_on_texts(x_train)"
      ],
      "execution_count": 0,
      "outputs": []
    },
    {
      "cell_type": "code",
      "metadata": {
        "id": "EbnLOvRCy--k",
        "colab_type": "code",
        "colab": {}
      },
      "source": [
        "index = tokenizer.word_index"
      ],
      "execution_count": 0,
      "outputs": []
    },
    {
      "cell_type": "code",
      "metadata": {
        "id": "GaH0LW0cy--p",
        "colab_type": "code",
        "outputId": "cf660cd3-6b02-4a4b-eb25-02d4dbf3d56f",
        "colab": {
          "base_uri": "https://localhost:8080/",
          "height": 34
        }
      },
      "source": [
        "len(index)"
      ],
      "execution_count": 0,
      "outputs": [
        {
          "output_type": "execute_result",
          "data": {
            "text/plain": [
              "262756"
            ]
          },
          "metadata": {
            "tags": []
          },
          "execution_count": 23
        }
      ]
    },
    {
      "cell_type": "code",
      "metadata": {
        "id": "koxRZwd7y--s",
        "colab_type": "code",
        "colab": {}
      },
      "source": [
        "xtrain_sequence = tokenizer.texts_to_sequences(x_train)\n",
        "xtrain_padded = pad_sequences(xtrain_sequence, padding=paddingtype)\n",
        "xtest_sequence = tokenizer.texts_to_sequences(x_test)"
      ],
      "execution_count": 0,
      "outputs": []
    },
    {
      "cell_type": "code",
      "metadata": {
        "id": "CG01AwCve3QH",
        "colab_type": "code",
        "colab": {}
      },
      "source": [
        "xtest_padded = pad_sequences(xtest_sequence,maxlen=228 ,padding=paddingtype)"
      ],
      "execution_count": 0,
      "outputs": []
    },
    {
      "cell_type": "code",
      "metadata": {
        "id": "8XTWleJEy--x",
        "colab_type": "code",
        "outputId": "f58b1031-9cd1-43ad-fc40-4fde433aa43d",
        "colab": {
          "base_uri": "https://localhost:8080/",
          "height": 238
        }
      },
      "source": [
        "print(xtrain_padded[1])"
      ],
      "execution_count": 0,
      "outputs": [
        {
          "output_type": "stream",
          "text": [
            "[178  78  29   2  66 127  10 153 137   0   0   0   0   0   0   0   0   0\n",
            "   0   0   0   0   0   0   0   0   0   0   0   0   0   0   0   0   0   0\n",
            "   0   0   0   0   0   0   0   0   0   0   0   0   0   0   0   0   0   0\n",
            "   0   0   0   0   0   0   0   0   0   0   0   0   0   0   0   0   0   0\n",
            "   0   0   0   0   0   0   0   0   0   0   0   0   0   0   0   0   0   0\n",
            "   0   0   0   0   0   0   0   0   0   0   0   0   0   0   0   0   0   0\n",
            "   0   0   0   0   0   0   0   0   0   0   0   0   0   0   0   0   0   0\n",
            "   0   0   0   0   0   0   0   0   0   0   0   0   0   0   0   0   0   0\n",
            "   0   0   0   0   0   0   0   0   0   0   0   0   0   0   0   0   0   0\n",
            "   0   0   0   0   0   0   0   0   0   0   0   0   0   0   0   0   0   0\n",
            "   0   0   0   0   0   0   0   0   0   0   0   0   0   0   0   0   0   0\n",
            "   0   0   0   0   0   0   0   0   0   0   0   0   0   0   0   0   0   0\n",
            "   0   0   0   0   0   0   0   0   0   0   0   0]\n"
          ],
          "name": "stdout"
        }
      ]
    },
    {
      "cell_type": "code",
      "metadata": {
        "id": "2X_CKDR0y--0",
        "colab_type": "code",
        "outputId": "f6ecc18b-62d3-4907-fef4-5da81f065688",
        "colab": {
          "base_uri": "https://localhost:8080/",
          "height": 34
        }
      },
      "source": [
        "set(y_train[0])"
      ],
      "execution_count": 0,
      "outputs": [
        {
          "output_type": "execute_result",
          "data": {
            "text/plain": [
              "{1}"
            ]
          },
          "metadata": {
            "tags": []
          },
          "execution_count": 29
        }
      ]
    },
    {
      "cell_type": "markdown",
      "metadata": {
        "id": "pYYgWWED5z9A",
        "colab_type": "text"
      },
      "source": [
        "## **Defining Model**"
      ]
    },
    {
      "cell_type": "code",
      "metadata": {
        "id": "3u8eGmSky--3",
        "colab_type": "code",
        "colab": {}
      },
      "source": [
        "def create_model():\n",
        "  model = tf.keras.Sequential([\n",
        "    tf.keras.layers.Embedding(dict_length, embed_dims, input_length=Embed_input),\n",
        "    tf.keras.layers.Bidirectional(tf.keras.layers.LSTM(84, return_sequences=True)),\n",
        "    tf.keras.layers.Bidirectional(tf.keras.layers.LSTM(68)),\n",
        "    tf.keras.layers.Dense(42, activation='relu'),\n",
        "    tf.keras.layers.Dense(1, activation='sigmoid')\n",
        "  ])\n",
        "  model.summary()\n",
        "  model.compile(loss = 'binary_crossentropy', optimizer=tf.keras.optimizers.SGD(), metrics=['accuracy'])\n",
        "\n",
        "  return model"
      ],
      "execution_count": 0,
      "outputs": []
    },
    {
      "cell_type": "markdown",
      "metadata": {
        "id": "9FpL-dBr59Kg",
        "colab_type": "text"
      },
      "source": [
        "## **Creating Callback for saving and loading model weights**"
      ]
    },
    {
      "cell_type": "code",
      "metadata": {
        "id": "nIt2NaVey--8",
        "colab_type": "code",
        "colab": {}
      },
      "source": [
        "path='/content/gdrive/My Drive/Sentiment Analysis/Training/model.ckpt'\n",
        "dir_path = os.path.dirname(path)\n",
        "Callback_model = tf.keras.callbacks.ModelCheckpoint(path, save_weights_only=True, verbose=1)"
      ],
      "execution_count": 0,
      "outputs": []
    },
    {
      "cell_type": "code",
      "metadata": {
        "id": "zeYWqiaZ5eGr",
        "colab_type": "code",
        "outputId": "d4e9b447-da96-4873-8762-206d4073924b",
        "colab": {
          "base_uri": "https://localhost:8080/",
          "height": 340
        }
      },
      "source": [
        "model = create_model()\n",
        "model.load_weights('/content/gdrive/My Drive/Sentiment Analysis/Training/model.ckpt')"
      ],
      "execution_count": 0,
      "outputs": [
        {
          "output_type": "stream",
          "text": [
            "Model: \"sequential\"\n",
            "_________________________________________________________________\n",
            "Layer (type)                 Output Shape              Param #   \n",
            "=================================================================\n",
            "embedding (Embedding)        (None, 228, 12)           600000    \n",
            "_________________________________________________________________\n",
            "bidirectional (Bidirectional (None, 228, 168)          65184     \n",
            "_________________________________________________________________\n",
            "bidirectional_1 (Bidirection (None, 136)               128928    \n",
            "_________________________________________________________________\n",
            "dense (Dense)                (None, 42)                5754      \n",
            "_________________________________________________________________\n",
            "dense_1 (Dense)              (None, 1)                 43        \n",
            "=================================================================\n",
            "Total params: 799,909\n",
            "Trainable params: 799,909\n",
            "Non-trainable params: 0\n",
            "_________________________________________________________________\n"
          ],
          "name": "stdout"
        },
        {
          "output_type": "execute_result",
          "data": {
            "text/plain": [
              "<tensorflow.python.training.tracking.util.CheckpointLoadStatus at 0x7f1140d9b6a0>"
            ]
          },
          "metadata": {
            "tags": []
          },
          "execution_count": 32
        }
      ]
    },
    {
      "cell_type": "markdown",
      "metadata": {
        "id": "4FjCZ1FV6SF7",
        "colab_type": "text"
      },
      "source": [
        "## **Training Model over our preprocessed dataset**"
      ]
    },
    {
      "cell_type": "code",
      "metadata": {
        "id": "5UuW2mXsy-_M",
        "colab_type": "code",
        "outputId": "efcb420a-c0d9-42b4-95b6-97c9a364ce1e",
        "colab": {
          "base_uri": "https://localhost:8080/",
          "height": 459
        }
      },
      "source": [
        "result = model.fit(xtrain_padded, y_train, epochs=20, verbose=1, batch_size=128, validation_data=(xtest_padded, y_test), callbacks = [Callback_model])"
      ],
      "execution_count": 0,
      "outputs": [
        {
          "output_type": "stream",
          "text": [
            "Epoch 1/20\n",
            " 9999/10000 [============================>.] - ETA: 0s - loss: 0.5452 - accuracy: 0.7176\n",
            "Epoch 00001: saving model to /content/gdrive/My Drive/Sentiment Analysis/Training/model.ckpt\n",
            "10000/10000 [==============================] - 571s 57ms/step - loss: 0.5452 - accuracy: 0.7176 - val_loss: 0.4950 - val_accuracy: 0.7579\n",
            "Epoch 2/20\n",
            "10000/10000 [==============================] - ETA: 0s - loss: 0.4796 - accuracy: 0.7686\n",
            "Epoch 00002: saving model to /content/gdrive/My Drive/Sentiment Analysis/Training/model.ckpt\n",
            "10000/10000 [==============================] - 563s 56ms/step - loss: 0.4796 - accuracy: 0.7686 - val_loss: 0.4641 - val_accuracy: 0.7783\n",
            "Epoch 3/20\n",
            "10000/10000 [==============================] - ETA: 0s - loss: 0.4582 - accuracy: 0.7831\n",
            "Epoch 00003: saving model to /content/gdrive/My Drive/Sentiment Analysis/Training/model.ckpt\n",
            "10000/10000 [==============================] - 559s 56ms/step - loss: 0.4582 - accuracy: 0.7831 - val_loss: 0.4511 - val_accuracy: 0.7871\n",
            "Epoch 4/20\n",
            "10000/10000 [==============================] - ETA: 0s - loss: 0.4457 - accuracy: 0.7911\n",
            "Epoch 00004: saving model to /content/gdrive/My Drive/Sentiment Analysis/Training/model.ckpt\n",
            "10000/10000 [==============================] - 557s 56ms/step - loss: 0.4457 - accuracy: 0.7911 - val_loss: 0.4409 - val_accuracy: 0.7935\n",
            "Epoch 5/20\n",
            "10000/10000 [==============================] - ETA: 0s - loss: 0.4376 - accuracy: 0.7959\n",
            "Epoch 00005: saving model to /content/gdrive/My Drive/Sentiment Analysis/Training/model.ckpt\n",
            "10000/10000 [==============================] - 556s 56ms/step - loss: 0.4376 - accuracy: 0.7959 - val_loss: 0.4398 - val_accuracy: 0.7933\n",
            "Epoch 6/20\n",
            "10000/10000 [==============================] - ETA: 0s - loss: 0.4315 - accuracy: 0.7994\n",
            "Epoch 00006: saving model to /content/gdrive/My Drive/Sentiment Analysis/Training/model.ckpt\n",
            "10000/10000 [==============================] - 556s 56ms/step - loss: 0.4315 - accuracy: 0.7994 - val_loss: 0.4350 - val_accuracy: 0.7961\n",
            "Epoch 7/20\n",
            " 1485/10000 [===>..........................] - ETA: 7:12 - loss: 0.4293 - accuracy: 0.8010Buffered data was truncated after reaching the output size limit."
          ],
          "name": "stdout"
        }
      ]
    },
    {
      "cell_type": "markdown",
      "metadata": {
        "id": "n47nxwZE6e1N",
        "colab_type": "text"
      },
      "source": [
        "## **Evaluating model performance over test dataset**"
      ]
    },
    {
      "cell_type": "code",
      "metadata": {
        "id": "qrPC4l5Ny-_Q",
        "colab_type": "code",
        "outputId": "11dc1151-3ec2-4d8f-fe42-5e494ed75899",
        "colab": {
          "base_uri": "https://localhost:8080/",
          "height": 51
        }
      },
      "source": [
        "model.evaluate(xtest_padded, y_test, batch_size=320, verbose=1)"
      ],
      "execution_count": 0,
      "outputs": [
        {
          "output_type": "stream",
          "text": [
            "1000/1000 [==============================] - 33s 33ms/step - loss: 0.4111 - accuracy: 0.8113\n"
          ],
          "name": "stdout"
        },
        {
          "output_type": "execute_result",
          "data": {
            "text/plain": [
              "[0.41109341382980347, 0.8113093972206116]"
            ]
          },
          "metadata": {
            "tags": []
          },
          "execution_count": 39
        }
      ]
    },
    {
      "cell_type": "code",
      "metadata": {
        "id": "4Cdm5Th5y-_T",
        "colab_type": "code",
        "colab": {}
      },
      "source": [
        ""
      ],
      "execution_count": 0,
      "outputs": []
    },
    {
      "cell_type": "code",
      "metadata": {
        "id": "bWJODCau6g0d",
        "colab_type": "code",
        "colab": {}
      },
      "source": [
        ""
      ],
      "execution_count": 0,
      "outputs": []
    }
  ]
}